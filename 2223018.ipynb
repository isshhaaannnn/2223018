{
 "cells": [
  {
   "cell_type": "code",
   "execution_count": 32,
   "id": "3f952deb-5942-4afe-93dd-a4f6cdafe672",
   "metadata": {},
   "outputs": [],
   "source": [
    "import pandas as pd\n",
    "import re"
   ]
  },
  {
   "cell_type": "code",
   "execution_count": 30,
   "id": "522f175e-8062-49ee-91b5-15ebb1d77c63",
   "metadata": {},
   "outputs": [],
   "source": [
    "def find_absent_streaks(attendance_df):\n",
    "    attendance_df['absence_flag'] = (attendance_df['status'] == 'Absent').astype(int)\n",
    "    attendance_df['group'] = (attendance_df['absence_flag'].diff() != 0).cumsum()\n",
    "    \n",
    "    absent_streaks = attendance_df[attendance_df['status'] == 'Absent']\n",
    "    streaks = absent_streaks.groupby(['student_id', 'group']).agg(\n",
    "        absence_start_date=('attendance_date', 'min'),\n",
    "        absence_end_date=('attendance_date', 'max'),\n",
    "        total_absent_days=('attendance_date', 'count')\n",
    "    ).reset_index()\n",
    "    \n",
    "    latest_streaks = streaks.sort_values('absence_end_date').groupby('student_id').last().reset_index()\n",
    "    return latest_streaks[latest_streaks['total_absent_days'] > 3][['student_id', 'absence_start_date', 'absence_end_date', 'total_absent_days']]\n",
    "def validate_email(email):\n",
    "    pattern = r'^[A-Za-z_][A-Za-z0-9_]*@[a-zA-Z]+\\.com$\n",
    "    return bool(re.match(pattern, email))4\n",
    "    \n",
    "    \n",
    "    \n",
    "    "
   ]
  },
  {
   "cell_type": "code",
   "execution_count": null,
   "id": "51c68f45-1d13-4087-9d9c-aee9caaddc64",
   "metadata": {},
   "outputs": [],
   "source": []
  }
 ],
 "metadata": {
  "kernelspec": {
   "display_name": "Python 3 (ipykernel)",
   "language": "python",
   "name": "python3"
  },
  "language_info": {
   "codemirror_mode": {
    "name": "ipython",
    "version": 3
   },
   "file_extension": ".py",
   "mimetype": "text/x-python",
   "name": "python",
   "nbconvert_exporter": "python",
   "pygments_lexer": "ipython3",
   "version": "3.12.7"
  }
 },
 "nbformat": 4,
 "nbformat_minor": 5
}
